{
 "cells": [
  {
   "cell_type": "markdown",
   "metadata": {},
   "source": [
    "# RNA-seq Pipeline\n",
    "\n",
    "**Folder Structure**\n",
    "\n",
    "- {**date**}{**project_name**}\n",
    "    - **samples (needs to be added manually)**\n",
    "        \n",
    "        \n",
    "    - analysis\n",
    "        \n",
    "        \n",
    "    - results\n",
    "        \n",
    "        \n",
    "    - **workflow (needs to be added manually)**\n",
    "        \n",
    "        \n",
    "    \n",
    "    📝 Metadata\n",
    "    \n",
    "    📝 Snakefile\n",
    "    \n",
    "    📝 README.md"
   ]
  },
  {
   "cell_type": "markdown",
   "metadata": {},
   "source": [
    "To-Dos\n",
    "\n",
    "- Add conditional indexing"
   ]
  },
  {
   "cell_type": "markdown",
   "metadata": {},
   "source": [
    "For contributors:\n",
    "- Common Errors and their solution:\n",
    "    - Not all output, log and benchmark files of rule alignment contain the same wildcards. This is crucial though, in order to avoid that two or more jobs write to the same file.\n",
    "        - This error means that there's one of the output, benchmark, and log overwrite each other by not having the same wildcards\n",
    "        - For example, log: {sample}.log is different than {sample}_{lane}.log\n",
    "        - The first would overwrite the sample log with each lane which would delete the previous lane data\n",
    "    - Error: dag2.dot: syntax error in line 1 near 'All'\n",
    "        - the dag.dot file has extra lines in the beginning"
   ]
  },
  {
   "cell_type": "markdown",
   "metadata": {},
   "source": [
    "Be smart regarding threads count for each rule. \n",
    "If you assign too many threads to each rule, you reduce the number of jobs that can run in parallel. For instance:\n",
    "\n",
    "If each rule uses 14 threads and you have 44 cores, you can only run 3 jobs in parallel (14 threads × 3 jobs = 42 threads used), leaving only 2 threads idle or unused.\n",
    "\n",
    "However, many bioinformatics tools like FastQC, MultiQC, Fastp, and even Kallisto often do not require that many threads. Tools like HISAT2 or StringTie can benefit more from multithreading, but even these tools usually achieve diminishing returns beyond a certain number of threads (e.g., 8-12).\n",
    "\n",
    "The goal is to strike a balance between running jobs with enough threads to maximize performance and leaving enough CPUs free to run multiple jobs simultaneously. Here's a suggestion:\n",
    "\n",
    "- FastQC: It’s I/O bound, so it typically won’t benefit much from many threads. You could set threads: 2 for FastQC.\n",
    "- HISAT2: It scales well with multiple threads, but more than 8-12 threads often provides diminishing returns. Set threads: 8 for HISAT2.\n",
    "- StringTie: StringTie benefits from multithreading, but similarly, beyond 8-12 threads, you may not see significant gains. Set threads: 8 for StringTie.\n",
    "- Kallisto: It’s lightweight and efficient, so threads: 4-6 is reasonable.\n",
    "- Fastp: It can handle multithreading, but something like threads: 4-6 should be sufficient.\n",
    "- MultiQC: Typically doesn't need many threads, so threads: 1-2 should be fine.\n"
   ]
  }
 ],
 "metadata": {
  "kernelspec": {
   "display_name": "Python 3",
   "language": "python",
   "name": "python3"
  },
  "language_info": {
   "codemirror_mode": {
    "name": "ipython",
    "version": 3
   },
   "file_extension": ".py",
   "mimetype": "text/x-python",
   "name": "python",
   "nbconvert_exporter": "python",
   "pygments_lexer": "ipython3",
   "version": "3.12.5"
  }
 },
 "nbformat": 4,
 "nbformat_minor": 2
}
